{
  "metadata": {
    "kernelspec": {
      "language": "python",
      "display_name": "Python 3",
      "name": "python3"
    },
    "language_info": {
      "name": "python",
      "version": "3.11.11",
      "mimetype": "text/x-python",
      "codemirror_mode": {
        "name": "ipython",
        "version": 3
      },
      "pygments_lexer": "ipython3",
      "nbconvert_exporter": "python",
      "file_extension": ".py"
    },
    "kaggle": {
      "accelerator": "none",
      "dataSources": [
        {
          "sourceId": 12226494,
          "sourceType": "datasetVersion",
          "datasetId": 7696850
        }
      ],
      "dockerImageVersionId": 31040,
      "isInternetEnabled": true,
      "language": "python",
      "sourceType": "notebook",
      "isGpuEnabled": false
    },
    "colab": {
      "name": "notebook7e24289136",
      "provenance": [],
      "toc_visible": true
    }
  },
  "nbformat_minor": 0,
  "nbformat": 4,
  "cells": [
    {
      "source": [
        "# IMPORTANT: RUN THIS CELL IN ORDER TO IMPORT YOUR KAGGLE DATA SOURCES,\n",
        "# THEN FEEL FREE TO DELETE THIS CELL.\n",
        "# NOTE: THIS NOTEBOOK ENVIRONMENT DIFFERS FROM KAGGLE'S PYTHON\n",
        "# ENVIRONMENT SO THERE MAY BE MISSING LIBRARIES USED BY YOUR\n",
        "# NOTEBOOK.\n",
        "import kagglehub\n",
        "milapgohil_car_dataset_path = kagglehub.dataset_download('milapgohil/car-dataset')\n",
        "\n",
        "print('Data source import complete.')\n"
      ],
      "metadata": {
        "id": "OYIXU8F614iP",
        "outputId": "21aa631c-3e54-4d92-8110-6b47198c21df",
        "colab": {
          "base_uri": "https://localhost:8080/"
        }
      },
      "cell_type": "code",
      "outputs": [
        {
          "output_type": "stream",
          "name": "stdout",
          "text": [
            "Data source import complete.\n"
          ]
        }
      ],
      "execution_count": 1
    },
    {
      "cell_type": "code",
      "source": [
        "https://www.kaggle.com/code/alperenaslann/car-price-prediction-with-multiple-models?scriptVersionId=247292389&cellId=2"
      ],
      "metadata": {
        "trusted": true,
        "execution": {
          "iopub.status.busy": "2025-06-25T15:55:01.598342Z",
          "iopub.execute_input": "2025-06-25T15:55:01.598991Z",
          "iopub.status.idle": "2025-06-25T15:55:01.605349Z",
          "shell.execute_reply.started": "2025-06-25T15:55:01.598965Z",
          "shell.execute_reply": "2025-06-25T15:55:01.604224Z"
        },
        "id": "ZnWB7SP114iQ",
        "outputId": "06b5200e-69d4-45ea-cdfd-da74d08fb271",
        "colab": {
          "base_uri": "https://localhost:8080/",
          "height": 106
        }
      },
      "outputs": [
        {
          "output_type": "error",
          "ename": "SyntaxError",
          "evalue": "invalid syntax (ipython-input-2-2369834404.py, line 1)",
          "traceback": [
            "\u001b[0;36m  File \u001b[0;32m\"/tmp/ipython-input-2-2369834404.py\"\u001b[0;36m, line \u001b[0;32m1\u001b[0m\n\u001b[0;31m    https://www.kaggle.com/code/alperenaslann/car-price-prediction-with-multiple-models?scriptVersionId=247292389&cellId=2\u001b[0m\n\u001b[0m          ^\u001b[0m\n\u001b[0;31mSyntaxError\u001b[0m\u001b[0;31m:\u001b[0m invalid syntax\n"
          ]
        }
      ],
      "execution_count": 2
    },
    {
      "cell_type": "code",
      "source": [
        "import pandas as pd\n",
        "import numpy as np\n",
        "import matplotlib.pyplot as plt\n",
        "import seaborn as sns\n",
        "from sklearn.preprocessing import LabelEncoder\n",
        "from sklearn.model_selection import train_test_split\n",
        "from sklearn.linear_model import LinearRegression, Ridge, Lasso, ElasticNet\n",
        "from sklearn.metrics import mean_squared_error, r2_score\n",
        "from sklearn.tree import DecisionTreeRegressor\n",
        "from sklearn.ensemble import RandomForestRegressor, GradientBoostingRegressor, AdaBoostRegressor, ExtraTreesRegressor\n",
        "from xgboost import XGBRegressor\n",
        "from sklearn.neighbors import KNeighborsRegressor\n",
        "from lightgbm import LGBMRegressor\n",
        "from sklearn.ensemble import HistGradientBoostingRegressor\n",
        "from sklearn.neural_network import MLPRegressor\n",
        "from xgboost import XGBRFRegressor\n",
        "import warnings\n",
        "warnings.filterwarnings(\"ignore\")"
      ],
      "metadata": {
        "trusted": true,
        "execution": {
          "iopub.status.busy": "2025-06-25T15:56:31.188443Z",
          "iopub.execute_input": "2025-06-25T15:56:31.18877Z",
          "iopub.status.idle": "2025-06-25T15:56:31.195Z",
          "shell.execute_reply.started": "2025-06-25T15:56:31.188745Z",
          "shell.execute_reply": "2025-06-25T15:56:31.193977Z"
        },
        "id": "kbHtez6I14iQ"
      },
      "outputs": [],
      "execution_count": null
    },
    {
      "cell_type": "code",
      "source": [
        "df.isnull().sum()"
      ],
      "metadata": {
        "trusted": true,
        "id": "o9Xvs49814iR"
      },
      "outputs": [],
      "execution_count": null
    },
    {
      "cell_type": "code",
      "source": [
        "df.info()\n"
      ],
      "metadata": {
        "trusted": true,
        "id": "e_dLff1014iR"
      },
      "outputs": [],
      "execution_count": null
    },
    {
      "cell_type": "code",
      "source": [
        "plt.figure(figsize=(10, 6))\n",
        "sns.countplot(x='Fuel Type', data=df, palette='viridis')\n",
        "plt.title('Count of Cars by Fuel Type')\n",
        "plt.xlabel('Fuel Type')\n",
        "plt.ylabel('Count')\n",
        "plt.xticks(rotation=45)\n",
        "plt.show()\n",
        "\n",
        "plt.figure(figsize=(10, 6))\n",
        "sns.countplot(x='Transmission', data=df, palette='viridis')\n",
        "plt.title('Count of Cars by Transmission Type')\n",
        "plt.xlabel('Transmission Type')\n",
        "plt.ylabel('Count')\n",
        "plt.xticks(rotation=45)\n",
        "plt.show()\n",
        "\n",
        "plt.figure(figsize=(10, 6))\n",
        "sns.scatterplot(x='Kilometers', y='Price', data=df, hue='Fuel Type', palette='viridis', alpha=0.7)\n",
        "plt.title('Price vs Kilometers by Fuel Type')\n",
        "plt.grid(True, linestyle='--', alpha=0.5)\n",
        "plt.xlabel('Kilometers')\n",
        "plt.ylabel('Price')\n",
        "plt.legend(title='Fuel Type')\n",
        "plt.show()\n",
        "\n",
        "plt.figure(figsize=(12, 6))\n",
        "sns.boxplot(x='Year', y='Price', data=df, hue='Transmission', palette='viridis')\n",
        "plt.title('Price vs Year by Transmission Type')\n",
        "plt.xlabel('Year')\n",
        "plt.ylabel('Price')\n",
        "plt.legend(title='Transmission Type', bbox_to_anchor=(1.05, 1), loc='upper left')\n",
        "plt.xticks(rotation=45)\n",
        "plt.show()\n",
        "\n",
        "plt.figure(figsize=(10, 6))\n",
        "sns.histplot(df['Price'], bins=30, kde=True, color='blue')\n",
        "plt.title('Distribution of Car Prices')\n",
        "plt.xlabel('Price')\n",
        "plt.ylabel('Frequency')\n",
        "plt.show()"
      ],
      "metadata": {
        "trusted": true,
        "id": "h0Lud92H14iR"
      },
      "outputs": [],
      "execution_count": null
    },
    {
      "cell_type": "code",
      "source": [
        "X = df.drop(['Price'], axis=1)\n",
        "y = df['Price']\n",
        "\n",
        "le = LabelEncoder()\n",
        "X = X.apply(lambda col: le.fit_transform(col) if col.dtype == 'object' else col)\n",
        "\n",
        "X_train, X_test, y_train, y_test = train_test_split(X, y, test_size=0.2, random_state=42)"
      ],
      "metadata": {
        "trusted": true,
        "id": "sZInuqs314iS"
      },
      "outputs": [],
      "execution_count": null
    },
    {
      "cell_type": "code",
      "source": [
        "df.head()"
      ],
      "metadata": {
        "trusted": true,
        "id": "zTUd0uuC14iS"
      },
      "outputs": [],
      "execution_count": null
    },
    {
      "cell_type": "code",
      "source": [
        "df.info()\n"
      ],
      "metadata": {
        "trusted": true,
        "id": "D3ar1Ov814iS"
      },
      "outputs": [],
      "execution_count": null
    },
    {
      "cell_type": "code",
      "source": [
        "df = pd.get_dummies(df, drop_first=True)"
      ],
      "metadata": {
        "trusted": true,
        "id": "20hoRLrv14iT"
      },
      "outputs": [],
      "execution_count": null
    },
    {
      "cell_type": "code",
      "source": [
        "df.head()"
      ],
      "metadata": {
        "trusted": true,
        "id": "9x1CEUQo14iT"
      },
      "outputs": [],
      "execution_count": null
    },
    {
      "cell_type": "code",
      "source": [
        "models = {\n",
        "    'Linear Regression': LinearRegression(n_jobs=-1),\n",
        "    'KNeighbors': KNeighborsRegressor(n_jobs=-1),\n",
        "    'LightGBM': LGBMRegressor(n_jobs=-1),\n",
        "    'XGBRF': XGBRFRegressor(n_jobs=-1),\n",
        "    'XGBoost': XGBRegressor(n_jobs=-1),\n",
        "    'Random Forest': RandomForestRegressor(n_jobs=-1),\n",
        "    'Extra Trees': ExtraTreesRegressor(n_jobs=-1),\n",
        "    'MLP Regressor': MLPRegressor(max_iter=1000, random_state=42),\n",
        "    'HistGradientBoosting': HistGradientBoostingRegressor(),\n",
        "    'Ridge Regression': Ridge(),\n",
        "    'Lasso Regression': Lasso(),\n",
        "    'ElasticNet Regression': ElasticNet(),\n",
        "    'Decision Tree': DecisionTreeRegressor(),\n",
        "    'Gradient Boosting': GradientBoostingRegressor(),\n",
        "    'AdaBoost': AdaBoostRegressor(),\n",
        "}\n",
        "\n",
        "results = {}\n",
        "for name, model in models.items():\n",
        "    try:\n",
        "        m = model.fit(X_train, y_train)\n",
        "        y_pred = m.predict(X_test)\n",
        "        r2 = r2_score(y_test, y_pred)\n",
        "        rmse = np.sqrt(mean_squared_error(y_test, y_pred))\n",
        "        mae = np.mean(np.abs(y_test - y_pred))\n",
        "        mse = mean_squared_error(y_test, y_pred)\n",
        "        results[name] = {\n",
        "            'R2 Score': r2,\n",
        "            'RMSE': rmse,\n",
        "            'MAE': mae,\n",
        "            'MSE': mse,\n",
        "        }\n",
        "        print(f\"{name} trained\")\n",
        "    except Exception as e:\n",
        "        print(f\"Error with {name}: {e}\")"
      ],
      "metadata": {
        "trusted": true,
        "id": "wqq9_Yx714iT"
      },
      "outputs": [],
      "execution_count": null
    },
    {
      "cell_type": "code",
      "source": [
        "results_df = pd.DataFrame(results).T\n",
        "results_df = results_df.sort_values(by='R2 Score', ascending=False)\n",
        "print(results_df)\n",
        "\n",
        "plt.figure(figsize=(12, 8))\n",
        "sns.barplot(x=results_df.index, y='R2 Score', data=results_df, palette='viridis')\n",
        "plt.title('Model Performance Comparison')\n",
        "plt.xlabel('Model')\n",
        "plt.ylabel('R2 Score')\n",
        "plt.xticks(rotation=45)\n",
        "plt.tight_layout()\n",
        "plt.show()"
      ],
      "metadata": {
        "trusted": true,
        "id": "f7xntJ6r14iT"
      },
      "outputs": [],
      "execution_count": null
    },
    {
      "cell_type": "code",
      "source": [
        "best_model_name = results_df['R2 Score'].idxmax()\n",
        "best_model = models[best_model_name]\n",
        "print(f\"The best model is: {best_model_name} with R2 Score: {results_df['R2 Score'].max()}\")\n",
        "\n",
        "best_model.fit(X_train, y_train)\n",
        "y_pred_best = best_model.predict(X_test)\n",
        "\n",
        "actual_vs_predicted = pd.DataFrame({'Actual': y_test, 'Predicted': y_pred_best})\n",
        "print(actual_vs_predicted.head())\n",
        "plt.figure(figsize=(10, 6))\n",
        "sns.scatterplot(x='Actual', y='Predicted', data=actual_vs_predicted, alpha=0.7)\n",
        "plt.plot([actual_vs_predicted['Actual'].min(), actual_vs_predicted['Actual'].max()],\n",
        "         [actual_vs_predicted['Actual'].min(), actual_vs_predicted['Actual'].max()],\n",
        "         color='red', linestyle='--')\n",
        "plt.title('Actual vs Predicted Prices')\n",
        "plt.xlabel('Actual Prices')\n",
        "plt.ylabel('Predicted Prices')\n",
        "plt.grid(True, linestyle='--', alpha=0.5)\n",
        "plt.show()"
      ],
      "metadata": {
        "trusted": true,
        "execution": {
          "iopub.status.busy": "2025-06-25T16:00:26.090492Z",
          "iopub.execute_input": "2025-06-25T16:00:26.090792Z",
          "iopub.status.idle": "2025-06-25T16:00:26.23698Z",
          "shell.execute_reply.started": "2025-06-25T16:00:26.090769Z",
          "shell.execute_reply": "2025-06-25T16:00:26.235866Z"
        },
        "id": "e_g7v7HI14iU"
      },
      "outputs": [],
      "execution_count": null
    },
    {
      "cell_type": "code",
      "source": [],
      "metadata": {
        "trusted": true,
        "id": "8_4ZB8hA14iU"
      },
      "outputs": [],
      "execution_count": null
    }
  ]
}